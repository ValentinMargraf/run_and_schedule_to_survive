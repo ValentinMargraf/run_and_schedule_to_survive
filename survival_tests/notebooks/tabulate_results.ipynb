{
 "cells": [
  {
   "cell_type": "code",
   "execution_count": null,
   "metadata": {},
   "outputs": [],
   "source": [
    "import sys\n",
    "sys.path.append('../..')"
   ]
  },
  {
   "cell_type": "code",
   "execution_count": null,
   "metadata": {},
   "outputs": [],
   "source": [
    "import pandas as pd"
   ]
  },
  {
   "cell_type": "code",
   "execution_count": null,
   "metadata": {},
   "outputs": [],
   "source": [
    "from survival_tests.survival_curves import create_scenario, create_survival_curves\n",
    "from survival_tests.schedule import compute_mean_runtime, ground_truth_evaluation\n",
    "from survival_tests.save_results import get_specific_optimization_results, get_schedule_comparison"
   ]
  },
  {
   "cell_type": "markdown",
   "metadata": {},
   "source": [
    "Scenarios from json"
   ]
  },
  {
   "cell_type": "code",
   "execution_count": null,
   "metadata": {},
   "outputs": [],
   "source": [
    "new_solutions = get_specific_optimization_results()\n",
    "new_solutions"
   ]
  },
  {
   "cell_type": "markdown",
   "metadata": {},
   "source": [
    "Specific Scenario"
   ]
  },
  {
   "cell_type": "code",
   "execution_count": null,
   "metadata": {},
   "outputs": [],
   "source": [
    "get_schedule_comparison('MIP-2016', 'survival')"
   ]
  },
  {
   "cell_type": "code",
   "execution_count": null,
   "metadata": {},
   "outputs": [],
   "source": [
    "scenario_name = 'QBF-2011'\n",
    "instance_id = 6\n",
    "\n",
    "PARS = [eval(element[3:]) for element in new_solutions.index.to_list()]\n",
    "PARS"
   ]
  },
  {
   "cell_type": "code",
   "execution_count": null,
   "metadata": {},
   "outputs": [],
   "source": [
    "scenario = create_scenario(scenario_name, filepath='../../survival_tests/results/workspaces/aslib/')\n",
    "EVENT_TIMES, SURVIVAL_FUNCTIONS, CUTOFF = create_survival_curves(scenario, instance_id)"
   ]
  },
  {
   "cell_type": "code",
   "execution_count": null,
   "metadata": {},
   "outputs": [],
   "source": [
    "results = {f'PAR{par}':{f'Algorithm {i}':round(compute_mean_runtime(EVENT_TIMES[i], SURVIVAL_FUNCTIONS[i], CUTOFF, par)) for i in range(len(EVENT_TIMES))} for par in PARS}\n",
    "table_algorithms = pd.DataFrame(results)\n",
    "table_algorithms"
   ]
  },
  {
   "cell_type": "code",
   "execution_count": null,
   "metadata": {},
   "outputs": [],
   "source": [
    "# The following values were taken from the results after the optimization\n",
    "objectives = {'Schedule': new_solutions[scenario_name].to_dict()}\n",
    "objective_table = pd.DataFrame(objectives).apply(round)\n",
    "objective_table.T"
   ]
  },
  {
   "cell_type": "code",
   "execution_count": null,
   "metadata": {},
   "outputs": [],
   "source": [
    "result_table = pd.concat([objective_table.T, table_algorithms], sort=True)\n",
    "result_table"
   ]
  },
  {
   "cell_type": "code",
   "execution_count": null,
   "metadata": {},
   "outputs": [],
   "source": [
    "# from os.path import exists\n",
    "\n",
    "# file_exists = exists(\"outputs/\" + scenario_name + \"_survival_results.csv\")\n",
    "\n",
    "# if file_exists:\n",
    "#     with open(\"outputs/\" + scenario_name + \"_survival_results.csv\", 'r') as read_file:\n",
    "#         current_table = pd.read_csv(read_file, index_col=0)\n",
    "# current_table = pd.DataFrame()"
   ]
  },
  {
   "cell_type": "code",
   "execution_count": null,
   "metadata": {},
   "outputs": [],
   "source": [
    "# Save results \n",
    "# with open(\"outputs/\" + scenario_name + \"_survival_results.csv\", 'w') as write_file:\n",
    "#     result_table.to_csv(write_file)"
   ]
  },
  {
   "attachments": {},
   "cell_type": "markdown",
   "metadata": {},
   "source": [
    "Normalized PAR_K"
   ]
  }
 ],
 "metadata": {
  "kernelspec": {
   "display_name": "survival_tests",
   "language": "python",
   "name": "python3"
  },
  "language_info": {
   "codemirror_mode": {
    "name": "ipython",
    "version": 3
   },
   "file_extension": ".py",
   "mimetype": "text/x-python",
   "name": "python",
   "nbconvert_exporter": "python",
   "pygments_lexer": "ipython3",
   "version": "3.6.8"
  },
  "orig_nbformat": 4
 },
 "nbformat": 4,
 "nbformat_minor": 2
}
